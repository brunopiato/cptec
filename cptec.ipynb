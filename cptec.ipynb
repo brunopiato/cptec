{
 "cells": [
  {
   "cell_type": "code",
   "execution_count": 18,
   "metadata": {},
   "outputs": [],
   "source": [
    "# https://mailtrap.io/blog/outlook-smtp/\n",
    "# https://www.youtube.com/watch?v=CgvOCXs8Xec\n",
    "# https://mailtrap.io/blog/python-send-email/\n",
    "# https://medium.com/@tempmailwithpassword/automating-email-attachments-in-outlook-with-python-a07224047434\n",
    "\n",
    "import warnings\n",
    "warnings.filterwarnings('ignore')\n",
    "\n",
    "import os\n",
    "import creds\n",
    "import smtplib\n",
    "import requests\n",
    "import pandas as pd\n",
    "from bs4 import BeautifulSoup\n",
    "from email.mime.text import MIMEText\n",
    "from email.mime.multipart import MIMEMultipart\n",
    "\n",
    "\n",
    "def data_get(cidade = 'jundiai'):\n",
    "    nome_cidade = cidade\n",
    "    link_cidade = f\"http://servicos.cptec.inpe.br/XML/listaCidades?city={nome_cidade}\"\n",
    "    response_cidade = requests.get(link_cidade)\n",
    "    xml_cidade = BeautifulSoup(response_cidade.text, features = 'lxml')\n",
    "    id_cidade = xml_cidade('id')[0].text\n",
    "\n",
    "    this_week = requests.get(f\"http://servicos.cptec.inpe.br/XML/cidade/7dias/{id_cidade}/previsao.xml\")\n",
    "    next_week = requests.get(f\"http://servicos.cptec.inpe.br/XML/cidade/{id_cidade}/estendida.xml\")\n",
    "\n",
    "    previsoes_this_week = BeautifulSoup(this_week.text, features = 'lxml').find_all('previsao')\n",
    "    previsoes_next_week = BeautifulSoup(next_week.text, features = 'lxml').find_all('previsao')\n",
    "    previsoes = previsoes_this_week + previsoes_next_week\n",
    "\n",
    "    resultados = []\n",
    "    for dia in previsoes:\n",
    "        resultados.append([dia('dia')[0].text, dia('maxima')[0].text, dia('minima')[0].text, dia('tempo')[0].text.strip()])\n",
    "    df_results = pd.DataFrame(resultados, columns=['date', 'max', 'min', 'tempo'])\n",
    "    df_results.to_csv(r'C:\\Users\\piato\\Desktop\\previsao.csv', index=False)\n",
    "    print(\"Cidade escolhida: \", nome_cidade.capitalize(), '\\n\\n', df_results)\n",
    "\n",
    "    return df_results\n",
    "\n",
    "\n",
    "def email_new(df):\n",
    "    message = MIMEMultipart()\n",
    "    message['Subject'] = \"Previsão INPE/CPTEC\"\n",
    "    message['From'] = creds.sender\n",
    "    message['To'] = creds.recipient\n",
    "\n",
    "    html = MIMEText(df.to_html(index=False), \"html\")\n",
    "    message.attach(html)\n",
    "    \n",
    "    with smtplib.SMTP(\"smtp-mail.outlook.com\", 587) as server:\n",
    "        server.starttls()\n",
    "        server.login(creds.sender, creds.password)\n",
    "        server.sendmail(creds.sender, creds.recipient, message.as_string())\n"
   ]
  },
  {
   "cell_type": "code",
   "execution_count": 19,
   "metadata": {},
   "outputs": [
    {
     "name": "stdout",
     "output_type": "stream",
     "text": [
      "Cidade escolhida:  Jundiai \n",
      "\n",
      "           date max min tempo\n",
      "0   2024-08-28  26   7    pn\n",
      "1   2024-08-29  27  11    pn\n",
      "2   2024-08-30  28  14    pn\n",
      "3   2024-08-31  27  13    pn\n",
      "4   2024-09-01  28  13    pn\n",
      "5   2024-09-02  29  14    pn\n",
      "6   2024-09-03  30  15    pn\n",
      "7   2024-09-03  29  14    pn\n",
      "8   2024-09-04  29  15    pn\n",
      "9   2024-09-04  30  16    pn\n",
      "10  2024-09-05  29  15    pn\n",
      "11  2024-09-05  29  16    pn\n",
      "12  2024-09-06  29  14    pn\n"
     ]
    }
   ],
   "source": [
    "data = data_get()\n",
    "# email_new(data)"
   ]
  },
  {
   "cell_type": "code",
   "execution_count": 25,
   "metadata": {},
   "outputs": [],
   "source": [
    "link_aeroporto = \"http://servicos.cptec.inpe.br/XML/estacao/SBKP/condicoesAtuais.xml\"\n",
    "response_aeroporto = requests.get(link_cidade)\n",
    "\n",
    "xml_aeroporto = BeautifulSoup(response_aeroporto.text, features = 'lxml')\n"
   ]
  },
  {
   "cell_type": "code",
   "execution_count": 40,
   "metadata": {},
   "outputs": [
    {
     "data": {
      "text/plain": [
       "<html><body><metar><codigo>SBKP</codigo><atualizacao>27/08/2024 16:00:00</atualizacao><pressao>1022</pressao><temperatura>24</temperatura><tempo>ps</tempo><tempo_desc>PredomÃ­nio de Sol</tempo_desc><umidade>18</umidade><vento_dir>140</vento_dir><vento_int>9</vento_int><visibilidade>&gt;10000</visibilidade></metar></body></html>"
      ]
     },
     "execution_count": 40,
     "metadata": {},
     "output_type": "execute_result"
    }
   ],
   "source": [
    "xml_aeroporto.contents[1]"
   ]
  },
  {
   "cell_type": "code",
   "execution_count": 41,
   "metadata": {},
   "outputs": [
    {
     "ename": "TypeError",
     "evalue": "the JSON object must be str, bytes or bytearray, not Tag",
     "output_type": "error",
     "traceback": [
      "\u001b[1;31m---------------------------------------------------------------------------\u001b[0m",
      "\u001b[1;31mTypeError\u001b[0m                                 Traceback (most recent call last)",
      "Cell \u001b[1;32mIn[41], line 2\u001b[0m\n\u001b[0;32m      1\u001b[0m \u001b[38;5;28;01mimport\u001b[39;00m \u001b[38;5;21;01mjson\u001b[39;00m\n\u001b[1;32m----> 2\u001b[0m \u001b[43mjson\u001b[49m\u001b[38;5;241;43m.\u001b[39;49m\u001b[43mloads\u001b[49m\u001b[43m(\u001b[49m\u001b[43mxml_aeroporto\u001b[49m\u001b[38;5;241;43m.\u001b[39;49m\u001b[43mcontents\u001b[49m\u001b[43m[\u001b[49m\u001b[38;5;241;43m1\u001b[39;49m\u001b[43m]\u001b[49m\u001b[43m)\u001b[49m\n",
      "File \u001b[1;32mc:\\Users\\piato\\AppData\\Local\\Programs\\Python\\Python311\\Lib\\json\\__init__.py:339\u001b[0m, in \u001b[0;36mloads\u001b[1;34m(s, cls, object_hook, parse_float, parse_int, parse_constant, object_pairs_hook, **kw)\u001b[0m\n\u001b[0;32m    337\u001b[0m \u001b[38;5;28;01melse\u001b[39;00m:\n\u001b[0;32m    338\u001b[0m     \u001b[38;5;28;01mif\u001b[39;00m \u001b[38;5;129;01mnot\u001b[39;00m \u001b[38;5;28misinstance\u001b[39m(s, (\u001b[38;5;28mbytes\u001b[39m, \u001b[38;5;28mbytearray\u001b[39m)):\n\u001b[1;32m--> 339\u001b[0m         \u001b[38;5;28;01mraise\u001b[39;00m \u001b[38;5;167;01mTypeError\u001b[39;00m(\u001b[38;5;124mf\u001b[39m\u001b[38;5;124m'\u001b[39m\u001b[38;5;124mthe JSON object must be str, bytes or bytearray, \u001b[39m\u001b[38;5;124m'\u001b[39m\n\u001b[0;32m    340\u001b[0m                         \u001b[38;5;124mf\u001b[39m\u001b[38;5;124m'\u001b[39m\u001b[38;5;124mnot \u001b[39m\u001b[38;5;132;01m{\u001b[39;00ms\u001b[38;5;241m.\u001b[39m\u001b[38;5;18m__class__\u001b[39m\u001b[38;5;241m.\u001b[39m\u001b[38;5;18m__name__\u001b[39m\u001b[38;5;132;01m}\u001b[39;00m\u001b[38;5;124m'\u001b[39m)\n\u001b[0;32m    341\u001b[0m     s \u001b[38;5;241m=\u001b[39m s\u001b[38;5;241m.\u001b[39mdecode(detect_encoding(s), \u001b[38;5;124m'\u001b[39m\u001b[38;5;124msurrogatepass\u001b[39m\u001b[38;5;124m'\u001b[39m)\n\u001b[0;32m    343\u001b[0m \u001b[38;5;28;01mif\u001b[39;00m (\u001b[38;5;28mcls\u001b[39m \u001b[38;5;129;01mis\u001b[39;00m \u001b[38;5;28;01mNone\u001b[39;00m \u001b[38;5;129;01mand\u001b[39;00m object_hook \u001b[38;5;129;01mis\u001b[39;00m \u001b[38;5;28;01mNone\u001b[39;00m \u001b[38;5;129;01mand\u001b[39;00m\n\u001b[0;32m    344\u001b[0m         parse_int \u001b[38;5;129;01mis\u001b[39;00m \u001b[38;5;28;01mNone\u001b[39;00m \u001b[38;5;129;01mand\u001b[39;00m parse_float \u001b[38;5;129;01mis\u001b[39;00m \u001b[38;5;28;01mNone\u001b[39;00m \u001b[38;5;129;01mand\u001b[39;00m\n\u001b[0;32m    345\u001b[0m         parse_constant \u001b[38;5;129;01mis\u001b[39;00m \u001b[38;5;28;01mNone\u001b[39;00m \u001b[38;5;129;01mand\u001b[39;00m object_pairs_hook \u001b[38;5;129;01mis\u001b[39;00m \u001b[38;5;28;01mNone\u001b[39;00m \u001b[38;5;129;01mand\u001b[39;00m \u001b[38;5;129;01mnot\u001b[39;00m kw):\n",
      "\u001b[1;31mTypeError\u001b[0m: the JSON object must be str, bytes or bytearray, not Tag"
     ]
    }
   ],
   "source": [
    "import json\n",
    "json.loads(xml_aeroporto.contents[1])"
   ]
  },
  {
   "cell_type": "code",
   "execution_count": null,
   "metadata": {},
   "outputs": [],
   "source": []
  },
  {
   "cell_type": "code",
   "execution_count": null,
   "metadata": {},
   "outputs": [],
   "source": []
  },
  {
   "cell_type": "code",
   "execution_count": 2,
   "metadata": {},
   "outputs": [
    {
     "ename": "com_error",
     "evalue": "(-2147467260, 'Operação anulada', None, None)",
     "output_type": "error",
     "traceback": [
      "\u001b[1;31m---------------------------------------------------------------------------\u001b[0m",
      "\u001b[1;31mcom_error\u001b[0m                                 Traceback (most recent call last)",
      "Cell \u001b[1;32mIn[2], line 6\u001b[0m\n\u001b[0;32m      4\u001b[0m \u001b[38;5;28;01mimport\u001b[39;00m \u001b[38;5;21;01mwin32com\u001b[39;00m\u001b[38;5;21;01m.\u001b[39;00m\u001b[38;5;21;01mclient\u001b[39;00m\n\u001b[0;32m      5\u001b[0m outlook \u001b[38;5;241m=\u001b[39m win32com\u001b[38;5;241m.\u001b[39mclient\u001b[38;5;241m.\u001b[39mDispatch(\u001b[38;5;124m\"\u001b[39m\u001b[38;5;124mOutlook.Application\u001b[39m\u001b[38;5;124m\"\u001b[39m)\n\u001b[1;32m----> 6\u001b[0m mail \u001b[38;5;241m=\u001b[39m \u001b[43moutlook\u001b[49m\u001b[38;5;241;43m.\u001b[39;49m\u001b[43mCreateItem\u001b[49m\u001b[43m(\u001b[49m\u001b[38;5;241;43m0\u001b[39;49m\u001b[43m)\u001b[49m\n\u001b[0;32m      7\u001b[0m mail\u001b[38;5;241m.\u001b[39mTo \u001b[38;5;241m=\u001b[39m recipient\n\u001b[0;32m      8\u001b[0m mail\u001b[38;5;241m.\u001b[39mSubject \u001b[38;5;241m=\u001b[39m \u001b[38;5;124m\"\u001b[39m\u001b[38;5;124mTest email with multiple attachments\u001b[39m\u001b[38;5;124m\"\u001b[39m\n",
      "File \u001b[1;32m<COMObject Outlook.Application>:2\u001b[0m, in \u001b[0;36mCreateItem\u001b[1;34m(self, ItemType)\u001b[0m\n",
      "\u001b[1;31mcom_error\u001b[0m: (-2147467260, 'Operação anulada', None, None)"
     ]
    }
   ],
   "source": [
    "sender = \"bruno.ipynb@outlook.com\"\n",
    "recipient = \"piatobio@gmail.com\"\n",
    "\n",
    "import win32com.client\n",
    "outlook = win32com.client.Dispatch(\"Outlook.Application\")\n",
    "mail = outlook.CreateItem(0)\n",
    "mail.To = recipient\n",
    "mail.Subject = \"Test email with multiple attachments\"\n",
    "mail.Body = \"This is an automated email with attachments.\"\n",
    "attachments = [r'C:\\Users\\piato\\Desktop\\previsao.csv']\n",
    "for attachment in attachments:\n",
    "    mail.Attachments.Add(attachment)\n",
    "mail.Send()"
   ]
  }
 ],
 "metadata": {
  "kernelspec": {
   "display_name": ".venv",
   "language": "python",
   "name": "python3"
  },
  "language_info": {
   "codemirror_mode": {
    "name": "ipython",
    "version": 3
   },
   "file_extension": ".py",
   "mimetype": "text/x-python",
   "name": "python",
   "nbconvert_exporter": "python",
   "pygments_lexer": "ipython3",
   "version": "3.11.9"
  }
 },
 "nbformat": 4,
 "nbformat_minor": 2
}
