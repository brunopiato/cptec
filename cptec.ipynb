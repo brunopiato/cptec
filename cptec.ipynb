{
 "cells": [
  {
   "cell_type": "code",
   "execution_count": 4,
   "metadata": {},
   "outputs": [],
   "source": [
    "# https://mailtrap.io/blog/outlook-smtp/\n",
    "# https://www.youtube.com/watch?v=CgvOCXs8Xec\n",
    "# https://mailtrap.io/blog/python-send-email/\n",
    "# https://medium.com/@tempmailwithpassword/automating-email-attachments-in-outlook-with-python-a07224047434\n",
    "\n",
    "import warnings\n",
    "warnings.filterwarnings('ignore')\n",
    "\n",
    "import os\n",
    "import creds\n",
    "import smtplib\n",
    "import requests\n",
    "import pandas as pd\n",
    "from bs4 import BeautifulSoup\n",
    "from email.mime.text import MIMEText\n",
    "from email.mime.multipart import MIMEMultipart\n",
    "\n",
    "\n",
    "def data_get(cidade = 'jundiai'):\n",
    "    nome_cidade = cidade\n",
    "    link_cidade = f\"http://servicos.cptec.inpe.br/XML/listaCidades?city={nome_cidade}\"\n",
    "    response_cidade = requests.get(link_cidade)\n",
    "    xml_cidade = BeautifulSoup(response_cidade.text, features = 'lxml')\n",
    "    id_cidade = xml_cidade('id')[0].text\n",
    "\n",
    "    this_week = requests.get(f\"http://servicos.cptec.inpe.br/XML/cidade/7dias/{id_cidade}/previsao.xml\")\n",
    "    next_week = requests.get(f\"http://servicos.cptec.inpe.br/XML/cidade/{id_cidade}/estendida.xml\")\n",
    "\n",
    "    previsoes_this_week = BeautifulSoup(this_week.text, features = 'lxml').find_all('previsao')\n",
    "    previsoes_next_week = BeautifulSoup(next_week.text, features = 'lxml').find_all('previsao')\n",
    "    previsoes = previsoes_this_week + previsoes_next_week\n",
    "\n",
    "    resultados = []\n",
    "    for dia in previsoes:\n",
    "        resultados.append([dia('dia')[0].text, dia('maxima')[0].text, dia('minima')[0].text, dia('tempo')[0].text.strip()])\n",
    "    df_results = pd.DataFrame(resultados, columns=['date', 'max', 'min', 'tempo'])\n",
    "    df_results.to_csv(r'C:\\Users\\piato\\OneDrive\\Área de Trabalho\\previsao.csv', index=False)\n",
    "    print(\"Cidade escolhida: \", nome_cidade.capitalize(), '\\n\\n', df_results)\n",
    "\n",
    "    return df_results\n",
    "\n",
    "\n",
    "def email_new(df):\n",
    "    message = MIMEMultipart()\n",
    "    message['Subject'] = \"Previsão INPE/CPTEC\"\n",
    "    message['From'] = creds.sender\n",
    "    message['To'] = creds.recipient\n",
    "\n",
    "    html = MIMEText(df.to_html(index=False), \"html\")\n",
    "    message.attach(html)\n",
    "    \n",
    "    with smtplib.SMTP(\"smtp-mail.outlook.com\", 587) as server:\n",
    "        server.starttls()\n",
    "        server.login(creds.sender, creds.password)\n",
    "        server.sendmail(creds.sender, creds.recipient, message.as_string())\n"
   ]
  },
  {
   "cell_type": "code",
   "execution_count": null,
   "metadata": {},
   "outputs": [],
   "source": [
    "data = data_get()\n",
    "email_new(data)"
   ]
  },
  {
   "cell_type": "code",
   "execution_count": 15,
   "metadata": {},
   "outputs": [],
   "source": []
  },
  {
   "cell_type": "code",
   "execution_count": 20,
   "metadata": {},
   "outputs": [],
   "source": []
  },
  {
   "cell_type": "code",
   "execution_count": null,
   "metadata": {},
   "outputs": [],
   "source": []
  },
  {
   "cell_type": "code",
   "execution_count": null,
   "metadata": {},
   "outputs": [],
   "source": []
  },
  {
   "cell_type": "code",
   "execution_count": null,
   "metadata": {},
   "outputs": [],
   "source": []
  },
  {
   "cell_type": "code",
   "execution_count": null,
   "metadata": {},
   "outputs": [],
   "source": []
  },
  {
   "cell_type": "code",
   "execution_count": null,
   "metadata": {},
   "outputs": [],
   "source": []
  },
  {
   "cell_type": "code",
   "execution_count": null,
   "metadata": {},
   "outputs": [],
   "source": [
    "sender = \"bruno.ipynb@outlook.com\"\n",
    "recipient = \"piatobio@gmail.com\"\n",
    "\n",
    "import win32com.client\n",
    "outlook = win32com.client.Dispatch(\"Outlook.Application\")\n",
    "mail = outlook.CreateItem(0)\n",
    "mail.To = recipient\n",
    "mail.Subject = \"Test email with multiple attachments\"\n",
    "mail.Body = \"This is an automated email with attachments.\"\n",
    "attachments = [r'C:\\Users\\piato\\Desktop\\previsao.csv']\n",
    "for attachment in attachments:\n",
    "    mail.Attachments.Add(attachment)\n",
    "mail.Send()"
   ]
  }
 ],
 "metadata": {
  "kernelspec": {
   "display_name": ".venv",
   "language": "python",
   "name": "python3"
  },
  "language_info": {
   "codemirror_mode": {
    "name": "ipython",
    "version": 3
   },
   "file_extension": ".py",
   "mimetype": "text/x-python",
   "name": "python",
   "nbconvert_exporter": "python",
   "pygments_lexer": "ipython3",
   "version": "3.11.9"
  }
 },
 "nbformat": 4,
 "nbformat_minor": 2
}
